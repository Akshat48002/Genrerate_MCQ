{
 "cells": [
  {
   "cell_type": "code",
   "execution_count": 1,
   "id": "6e0014b4",
   "metadata": {},
   "outputs": [],
   "source": [
    "import os \n",
    "import json\n",
    "import pandas as pd\n",
    "import traceback"
   ]
  },
  {
   "cell_type": "code",
   "execution_count": 2,
   "id": "e9bb6178",
   "metadata": {},
   "outputs": [
    {
     "name": "stdout",
     "output_type": "stream",
     "text": [
      "Requirement already satisfied: langchain_openai in /Users/mac/Documents/Projects/Genrerate_MCQ/env/lib/python3.11/site-packages (0.3.32)\n",
      "Requirement already satisfied: langchain-core<1.0.0,>=0.3.74 in /Users/mac/Documents/Projects/Genrerate_MCQ/env/lib/python3.11/site-packages (from langchain_openai) (0.3.75)\n",
      "Requirement already satisfied: openai<2.0.0,>=1.99.9 in /Users/mac/Documents/Projects/Genrerate_MCQ/env/lib/python3.11/site-packages (from langchain_openai) (1.102.0)\n",
      "Requirement already satisfied: tiktoken<1,>=0.7 in /Users/mac/Documents/Projects/Genrerate_MCQ/env/lib/python3.11/site-packages (from langchain_openai) (0.11.0)\n",
      "Requirement already satisfied: langsmith>=0.3.45 in /Users/mac/Documents/Projects/Genrerate_MCQ/env/lib/python3.11/site-packages (from langchain-core<1.0.0,>=0.3.74->langchain_openai) (0.4.21)\n",
      "Requirement already satisfied: tenacity!=8.4.0,<10.0.0,>=8.1.0 in /Users/mac/Documents/Projects/Genrerate_MCQ/env/lib/python3.11/site-packages (from langchain-core<1.0.0,>=0.3.74->langchain_openai) (9.1.2)\n",
      "Requirement already satisfied: jsonpatch<2.0,>=1.33 in /Users/mac/Documents/Projects/Genrerate_MCQ/env/lib/python3.11/site-packages (from langchain-core<1.0.0,>=0.3.74->langchain_openai) (1.33)\n",
      "Requirement already satisfied: PyYAML>=5.3 in /Users/mac/Documents/Projects/Genrerate_MCQ/env/lib/python3.11/site-packages (from langchain-core<1.0.0,>=0.3.74->langchain_openai) (6.0.2)\n",
      "Requirement already satisfied: typing-extensions>=4.7 in /Users/mac/Documents/Projects/Genrerate_MCQ/env/lib/python3.11/site-packages (from langchain-core<1.0.0,>=0.3.74->langchain_openai) (4.15.0)\n",
      "Requirement already satisfied: packaging>=23.2 in /Users/mac/Documents/Projects/Genrerate_MCQ/env/lib/python3.11/site-packages (from langchain-core<1.0.0,>=0.3.74->langchain_openai) (25.0)\n",
      "Requirement already satisfied: pydantic>=2.7.4 in /Users/mac/Documents/Projects/Genrerate_MCQ/env/lib/python3.11/site-packages (from langchain-core<1.0.0,>=0.3.74->langchain_openai) (2.11.7)\n",
      "Requirement already satisfied: jsonpointer>=1.9 in /Users/mac/Documents/Projects/Genrerate_MCQ/env/lib/python3.11/site-packages (from jsonpatch<2.0,>=1.33->langchain-core<1.0.0,>=0.3.74->langchain_openai) (3.0.0)\n",
      "Requirement already satisfied: anyio<5,>=3.5.0 in /Users/mac/Documents/Projects/Genrerate_MCQ/env/lib/python3.11/site-packages (from openai<2.0.0,>=1.99.9->langchain_openai) (4.10.0)\n",
      "Requirement already satisfied: distro<2,>=1.7.0 in /Users/mac/Documents/Projects/Genrerate_MCQ/env/lib/python3.11/site-packages (from openai<2.0.0,>=1.99.9->langchain_openai) (1.9.0)\n",
      "Requirement already satisfied: httpx<1,>=0.23.0 in /Users/mac/Documents/Projects/Genrerate_MCQ/env/lib/python3.11/site-packages (from openai<2.0.0,>=1.99.9->langchain_openai) (0.28.1)\n",
      "Requirement already satisfied: jiter<1,>=0.4.0 in /Users/mac/Documents/Projects/Genrerate_MCQ/env/lib/python3.11/site-packages (from openai<2.0.0,>=1.99.9->langchain_openai) (0.10.0)\n",
      "Requirement already satisfied: sniffio in /Users/mac/Documents/Projects/Genrerate_MCQ/env/lib/python3.11/site-packages (from openai<2.0.0,>=1.99.9->langchain_openai) (1.3.1)\n",
      "Requirement already satisfied: tqdm>4 in /Users/mac/Documents/Projects/Genrerate_MCQ/env/lib/python3.11/site-packages (from openai<2.0.0,>=1.99.9->langchain_openai) (4.67.1)\n",
      "Requirement already satisfied: idna>=2.8 in /Users/mac/Documents/Projects/Genrerate_MCQ/env/lib/python3.11/site-packages (from anyio<5,>=3.5.0->openai<2.0.0,>=1.99.9->langchain_openai) (3.10)\n",
      "Requirement already satisfied: certifi in /Users/mac/Documents/Projects/Genrerate_MCQ/env/lib/python3.11/site-packages (from httpx<1,>=0.23.0->openai<2.0.0,>=1.99.9->langchain_openai) (2025.8.3)\n",
      "Requirement already satisfied: httpcore==1.* in /Users/mac/Documents/Projects/Genrerate_MCQ/env/lib/python3.11/site-packages (from httpx<1,>=0.23.0->openai<2.0.0,>=1.99.9->langchain_openai) (1.0.9)\n",
      "Requirement already satisfied: h11>=0.16 in /Users/mac/Documents/Projects/Genrerate_MCQ/env/lib/python3.11/site-packages (from httpcore==1.*->httpx<1,>=0.23.0->openai<2.0.0,>=1.99.9->langchain_openai) (0.16.0)\n",
      "Requirement already satisfied: annotated-types>=0.6.0 in /Users/mac/Documents/Projects/Genrerate_MCQ/env/lib/python3.11/site-packages (from pydantic>=2.7.4->langchain-core<1.0.0,>=0.3.74->langchain_openai) (0.7.0)\n",
      "Requirement already satisfied: pydantic-core==2.33.2 in /Users/mac/Documents/Projects/Genrerate_MCQ/env/lib/python3.11/site-packages (from pydantic>=2.7.4->langchain-core<1.0.0,>=0.3.74->langchain_openai) (2.33.2)\n",
      "Requirement already satisfied: typing-inspection>=0.4.0 in /Users/mac/Documents/Projects/Genrerate_MCQ/env/lib/python3.11/site-packages (from pydantic>=2.7.4->langchain-core<1.0.0,>=0.3.74->langchain_openai) (0.4.1)\n",
      "Requirement already satisfied: regex>=2022.1.18 in /Users/mac/Documents/Projects/Genrerate_MCQ/env/lib/python3.11/site-packages (from tiktoken<1,>=0.7->langchain_openai) (2025.8.29)\n",
      "Requirement already satisfied: requests>=2.26.0 in /Users/mac/Documents/Projects/Genrerate_MCQ/env/lib/python3.11/site-packages (from tiktoken<1,>=0.7->langchain_openai) (2.32.5)\n",
      "Requirement already satisfied: orjson>=3.9.14 in /Users/mac/Documents/Projects/Genrerate_MCQ/env/lib/python3.11/site-packages (from langsmith>=0.3.45->langchain-core<1.0.0,>=0.3.74->langchain_openai) (3.11.3)\n",
      "Requirement already satisfied: requests-toolbelt>=1.0.0 in /Users/mac/Documents/Projects/Genrerate_MCQ/env/lib/python3.11/site-packages (from langsmith>=0.3.45->langchain-core<1.0.0,>=0.3.74->langchain_openai) (1.0.0)\n",
      "Requirement already satisfied: zstandard>=0.23.0 in /Users/mac/Documents/Projects/Genrerate_MCQ/env/lib/python3.11/site-packages (from langsmith>=0.3.45->langchain-core<1.0.0,>=0.3.74->langchain_openai) (0.24.0)\n",
      "Requirement already satisfied: charset_normalizer<4,>=2 in /Users/mac/Documents/Projects/Genrerate_MCQ/env/lib/python3.11/site-packages (from requests>=2.26.0->tiktoken<1,>=0.7->langchain_openai) (3.4.3)\n",
      "Requirement already satisfied: urllib3<3,>=1.21.1 in /Users/mac/Documents/Projects/Genrerate_MCQ/env/lib/python3.11/site-packages (from requests>=2.26.0->tiktoken<1,>=0.7->langchain_openai) (2.5.0)\n",
      "Note: you may need to restart the kernel to use updated packages.\n"
     ]
    }
   ],
   "source": [
    "%pip install langchain_openai"
   ]
  },
  {
   "cell_type": "code",
   "execution_count": 3,
   "id": "8bded730",
   "metadata": {},
   "outputs": [],
   "source": [
    "from langchain_openai import ChatOpenAI"
   ]
  },
  {
   "cell_type": "code",
   "execution_count": 4,
   "id": "ffc4068e",
   "metadata": {},
   "outputs": [
    {
     "data": {
      "text/plain": [
       "True"
      ]
     },
     "execution_count": 4,
     "metadata": {},
     "output_type": "execute_result"
    }
   ],
   "source": [
    "from dotenv import load_dotenv\n",
    "load_dotenv()"
   ]
  },
  {
   "cell_type": "code",
   "execution_count": null,
   "id": "b7d912ea",
   "metadata": {},
   "outputs": [],
   "source": [
    "KEY = os.getenv(\"OpenAI_API_Key\")"
   ]
  },
  {
   "cell_type": "code",
   "execution_count": 6,
   "id": "6fb9ad7b",
   "metadata": {},
   "outputs": [],
   "source": [
    "from pydantic import SecretStr\n",
    "\n",
    "llm = ChatOpenAI(api_key=SecretStr(KEY) if KEY is not None else None, model=\"gpt-3.5-turbo\", temperature=0.5)"
   ]
  },
  {
   "cell_type": "code",
   "execution_count": null,
   "id": "e25a1fd9",
   "metadata": {},
   "outputs": [],
   "source": []
  }
 ],
 "metadata": {
  "kernelspec": {
   "display_name": "Python 3",
   "language": "python",
   "name": "python3"
  },
  "language_info": {
   "codemirror_mode": {
    "name": "ipython",
    "version": 3
   },
   "file_extension": ".py",
   "mimetype": "text/x-python",
   "name": "python",
   "nbconvert_exporter": "python",
   "pygments_lexer": "ipython3",
   "version": "3.11.9"
  }
 },
 "nbformat": 4,
 "nbformat_minor": 5
}
